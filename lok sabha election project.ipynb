{
 "cells": [
  {
   "cell_type": "code",
   "execution_count": 1,
   "id": "feb5db54-b2fd-4255-83d9-0176d123aac0",
   "metadata": {},
   "outputs": [],
   "source": [
    "## Website and describe your objective"
   ]
  },
  {
   "cell_type": "code",
   "execution_count": 3,
   "id": "a51b59df-25c0-4200-bf56-b48e15bd4bbc",
   "metadata": {},
   "outputs": [],
   "source": [
    "##- we are going to scrap https://results.eci.gov.in/\n",
    "##- we'll get a list of topics and for each topic we'get topic title, topic page url and topic description\n",
    "##- for each topic we get some names\n",
    "##- we will have names of cons,name of party, etc\n",
    "##- for each topic we will have different csv file"
   ]
  },
  {
   "cell_type": "code",
   "execution_count": 4,
   "id": "8b30bc4b-88dd-4d8a-a64f-3c4338ee6936",
   "metadata": {},
   "outputs": [],
   "source": [
    "## Use the req library to download web pages"
   ]
  },
  {
   "cell_type": "code",
   "execution_count": 5,
   "id": "4a4abc1c-a881-4457-bfc9-3ca93aaa846c",
   "metadata": {},
   "outputs": [],
   "source": [
    "!pip install requests --upgrade --quiet\n"
   ]
  },
  {
   "cell_type": "code",
   "execution_count": 6,
   "id": "60fb59d2-7ed6-4e38-b218-513ecfdb6060",
   "metadata": {},
   "outputs": [],
   "source": [
    "import requests"
   ]
  },
  {
   "cell_type": "code",
   "execution_count": 7,
   "id": "60959283-1ef8-43fd-b39f-d6e8d408a323",
   "metadata": {},
   "outputs": [],
   "source": [
    "topics_url = 'https://results.eci.gov.in/AcResultGenJune2024/statewiseS181.htm'"
   ]
  },
  {
   "cell_type": "code",
   "execution_count": 10,
   "id": "da94e76c-d4cb-4a3d-b748-6730e1be6489",
   "metadata": {},
   "outputs": [],
   "source": [
    "response = requests.get(topics_url)\n"
   ]
  },
  {
   "cell_type": "code",
   "execution_count": 11,
   "id": "da9743a7-2a3d-4b3f-883e-f3486c88986b",
   "metadata": {},
   "outputs": [
    {
     "data": {
      "text/plain": [
       "200"
      ]
     },
     "execution_count": 11,
     "metadata": {},
     "output_type": "execute_result"
    }
   ],
   "source": [
    "response.status_code"
   ]
  },
  {
   "cell_type": "code",
   "execution_count": 12,
   "id": "7202fab7-41eb-4198-b91b-cc90ee20be2f",
   "metadata": {},
   "outputs": [
    {
     "data": {
      "text/plain": [
       "38260"
      ]
     },
     "execution_count": 12,
     "metadata": {},
     "output_type": "execute_result"
    }
   ],
   "source": [
    "len(response.text)"
   ]
  },
  {
   "cell_type": "code",
   "execution_count": 13,
   "id": "99df3934-c5ef-4f73-8ba3-0b437e6e7cec",
   "metadata": {},
   "outputs": [],
   "source": [
    "page_contents = response.text\n"
   ]
  },
  {
   "cell_type": "code",
   "execution_count": 14,
   "id": "3f10dcb7-9cac-4ded-a892-92ac71101417",
   "metadata": {},
   "outputs": [
    {
     "data": {
      "text/plain": [
       "\"<!doctype html>\\r\\n<html lang='en'>\\r\\n\\r\\n<head>\\r\\n  <!-- Required meta tags -->\\r\\n  <meta charset='utf-8'>\\r\\n  <meta name='viewport' content='width=device-width, initial-scale=1'>\\r\\n  <meta http-equiv='Content-Type' content='text/html; charset=UTF-8'>\\r\\n    <meta http-equiv='X-UA-Compatible' content='IE=7'>\\r\\n    <meta http-equiv='Cache-Control' content='no-cache, no-store, must-revalidate'>\\r\\n    <meta http-equiv='Pragma' content='no-cache'>\\r\\n    <meta http-equiv='Expires' content='0'>\\r\\n    <meta http-equiv='refresh' content='300'>\\r\\n  <!-- Bootstrap CSS -->\\r\\n  <link href='css/bootstrap.min.css' rel='stylesheet'>\\r\\n  <link href='css/custom.css' rel='stylesheet'>\\r\\n  <link href='css/responsive.css' rel='stylesheet'> \\r\\n  <link href='css/font.css' rel='stylesheet'>\\r\\n  <link rel='shortcut icon' href='img/icons/favicon.ico' type='image/x-icon'>\\r\\n  <title>Election Commission of India</title>\\r\\n      <style>\\r\\n      /*start update style for tool tip*/ \\r\\n         .custom-cell-style {\\r\\n            padding-rig\""
      ]
     },
     "execution_count": 14,
     "metadata": {},
     "output_type": "execute_result"
    }
   ],
   "source": [
    "page_contents[:1000]"
   ]
  },
  {
   "cell_type": "code",
   "execution_count": 15,
   "id": "9bad1966-e5a9-413f-a412-6a97f72d17a7",
   "metadata": {},
   "outputs": [],
   "source": [
    "with open('webpage.html', 'w') as f:\n",
    "    f.write(page_contents)"
   ]
  },
  {
   "cell_type": "code",
   "execution_count": 16,
   "id": "8ecd366b-bf6d-43db-b7ed-9880c57f6069",
   "metadata": {},
   "outputs": [],
   "source": [
    "## Use Beautiful Soup to parse and extract info"
   ]
  },
  {
   "cell_type": "code",
   "execution_count": 17,
   "id": "73c0e182-19bd-4de3-9cc6-3e464461f1f0",
   "metadata": {},
   "outputs": [],
   "source": [
    "!pip install beautifulsoup4 --upgrade --quiet"
   ]
  },
  {
   "cell_type": "code",
   "execution_count": 18,
   "id": "53e2d899-6c46-4707-8f0f-95b517d47641",
   "metadata": {},
   "outputs": [],
   "source": [
    "from bs4 import BeautifulSoup"
   ]
  },
  {
   "cell_type": "code",
   "execution_count": 19,
   "id": "c686661f-c3c0-4111-b286-493cfdfcf1ba",
   "metadata": {},
   "outputs": [],
   "source": [
    "doc = BeautifulSoup(page_contents, 'html.parser')"
   ]
  },
  {
   "cell_type": "code",
   "execution_count": 20,
   "id": "5601512f-fa81-4b63-af56-216d74cad681",
   "metadata": {},
   "outputs": [
    {
     "data": {
      "text/plain": [
       "bs4.BeautifulSoup"
      ]
     },
     "execution_count": 20,
     "metadata": {},
     "output_type": "execute_result"
    }
   ],
   "source": [
    "type(doc)\n"
   ]
  },
  {
   "cell_type": "code",
   "execution_count": 21,
   "id": "8e21f3f2-5908-41b8-b7bd-f70cbb5b30a4",
   "metadata": {},
   "outputs": [],
   "source": [
    "th_tags = doc.find_all('th')"
   ]
  },
  {
   "cell_type": "code",
   "execution_count": 22,
   "id": "c08b43ba-7773-44b8-bba1-718f97767ff1",
   "metadata": {},
   "outputs": [],
   "source": [
    "selection_class = 'left'\n",
    "div_tags = doc.find_all('td',{'align':selection_class})"
   ]
  },
  {
   "cell_type": "code",
   "execution_count": 23,
   "id": "0ea9837f-0bec-45b0-aca7-cd2a9d4a0658",
   "metadata": {},
   "outputs": [],
   "source": [
    "selection_class = 'right'\n",
    "td_tags = doc.find_all('td' , {'align':selection_class})"
   ]
  },
  {
   "cell_type": "code",
   "execution_count": 24,
   "id": "398a888b-8842-438c-803c-d0da0475eda3",
   "metadata": {},
   "outputs": [
    {
     "name": "stdout",
     "output_type": "stream",
     "text": [
      "Party Name: ABHIMANYU SETHI\n",
      "Leading In: 0\n",
      "Won In: 51\n",
      "Trailing In: 0\n",
      "\n",
      "Party Name: Biju Janata Dal\n",
      "Leading In: 0\n",
      "Won In: 51\n",
      "Trailing In: 0\n",
      "\n",
      "Party Name: JAYADEV JENA\n",
      "Leading In: 0\n",
      "Won In: 14\n",
      "Trailing In: 0\n",
      "\n",
      "Party Name: Indian National Congress\n",
      "Leading In: 0\n",
      "Won In: 14\n",
      "Trailing In: 0\n",
      "\n",
      "Party Name: PRATAP CHANDRA PRADHAN\n",
      "Leading In: 0\n",
      "Won In: 78\n",
      "Trailing In: 0\n",
      "\n",
      "Party Name: Bharatiya Janata Party\n",
      "Leading In: 0\n",
      "Won In: 78\n",
      "Trailing In: 0\n",
      "\n",
      "Party Name: SANJUKTA SINGH\n",
      "Leading In: 0\n",
      "Won In: 51\n",
      "Trailing In: 0\n",
      "\n",
      "Party Name: Biju Janata Dal\n",
      "Leading In: 0\n",
      "Won In: 51\n",
      "Trailing In: 0\n",
      "\n",
      "Party Name: SAROJ KUMAR PADHI\n",
      "Leading In: 0\n",
      "Won In: 78\n",
      "Trailing In: 0\n",
      "\n",
      "Party Name: Bharatiya Janata Party\n",
      "Leading In: 0\n",
      "Won In: 78\n",
      "Trailing In: 0\n",
      "\n",
      "Party Name: MANJULA SWAIN\n",
      "Leading In: 0\n",
      "Won In: 51\n",
      "Trailing In: 0\n",
      "\n",
      "Party Name: Biju Janata Dal\n",
      "Leading In: 0\n",
      "Won In: 51\n",
      "Trailing In: 0\n",
      "\n",
      "Party Name: RANENDRA PRATAP SWAIN\n",
      "Leading In: 0\n",
      "Won In: 51\n",
      "Trailing In: 0\n",
      "\n",
      "Party Name: Biju Janata Dal\n",
      "Leading In: 0\n",
      "Won In: 51\n",
      "Trailing In: 0\n",
      "\n",
      "Party Name: ABHAYA KUMAR BARIK\n",
      "Leading In: 0\n",
      "Won In: 78\n",
      "Trailing In: 0\n",
      "\n",
      "Party Name: Bharatiya Janata Party\n",
      "Leading In: 0\n",
      "Won In: 78\n",
      "Trailing In: 0\n",
      "\n",
      "Party Name: NALINI KANTA PRADHAN\n",
      "Leading In: 0\n",
      "Won In: 51\n",
      "Trailing In: 0\n",
      "\n",
      "Party Name: Biju Janata Dal\n",
      "Leading In: 0\n",
      "Won In: 51\n",
      "Trailing In: 0\n",
      "\n",
      "Party Name: SANJEEB KUMAR SAHOO\n",
      "Leading In: 0\n",
      "Won In: 78\n",
      "Trailing In: 0\n",
      "\n",
      "Party Name: Bharatiya Janata Party\n",
      "Leading In: 0\n",
      "Won In: 78\n",
      "Trailing In: 0\n",
      "\n",
      "Party Name: NIHAR RANJAN MAHANAND\n",
      "Leading In: 0\n",
      "Won In: 78\n",
      "Trailing In: 0\n",
      "\n",
      "Party Name: Bharatiya Janata Party\n",
      "Leading In: 0\n",
      "Won In: 78\n",
      "Trailing In: 0\n",
      "\n",
      "Party Name: SNEHANGINI CHHURIA\n",
      "Leading In: 0\n",
      "Won In: 51\n",
      "Trailing In: 0\n",
      "\n",
      "Party Name: Biju Janata Dal\n",
      "Leading In: 0\n",
      "Won In: 51\n",
      "Trailing In: 0\n",
      "\n",
      "Party Name: PRATAP KESHARI DEB\n",
      "Leading In: 0\n",
      "Won In: 51\n",
      "Trailing In: 0\n",
      "\n",
      "Party Name: Biju Janata Dal\n",
      "Leading In: 0\n",
      "Won In: 51\n",
      "Trailing In: 0\n",
      "\n",
      "Party Name: DEBASMITA SHARMA\n",
      "Leading In: 0\n",
      "Won In: 14\n",
      "Trailing In: 0\n",
      "\n",
      "Party Name: Indian National Congress\n",
      "Leading In: 0\n",
      "Won In: 14\n",
      "Trailing In: 0\n",
      "\n",
      "Party Name: SANATAN BIJULI\n",
      "Leading In: 0\n",
      "Won In: 78\n",
      "Trailing In: 0\n",
      "\n",
      "Party Name: Bharatiya Janata Party\n",
      "Leading In: 0\n",
      "Won In: 78\n",
      "Trailing In: 0\n",
      "\n",
      "Party Name: ANASUYA PATRA\n",
      "Leading In: 0\n",
      "Won In: 51\n",
      "Trailing In: 0\n",
      "\n",
      "Party Name: Biju Janata Dal\n",
      "Leading In: 0\n",
      "Won In: 51\n",
      "Trailing In: 0\n",
      "\n",
      "Party Name: MANAS KUMAR DUTTA\n",
      "Leading In: 0\n",
      "Won In: 78\n",
      "Trailing In: 0\n",
      "\n",
      "Party Name: Bharatiya Janata Party\n",
      "Leading In: 0\n",
      "Won In: 78\n",
      "Trailing In: 0\n",
      "\n",
      "Party Name: SWARUP KUMAR DAS\n",
      "Leading In: 0\n",
      "Won In: 51\n",
      "Trailing In: 0\n",
      "\n",
      "Party Name: Biju Janata Dal\n",
      "Leading In: 0\n",
      "Won In: 51\n",
      "Trailing In: 0\n",
      "\n",
      "Party Name: CHAKRAMANI KANHAR\n",
      "Leading In: 0\n",
      "Won In: 51\n",
      "Trailing In: 0\n",
      "\n",
      "Party Name: Biju Janata Dal\n",
      "Leading In: 0\n",
      "Won In: 51\n",
      "Trailing In: 0\n",
      "\n",
      "Party Name: UPENDRA PRADHAN\n",
      "Leading In: 0\n",
      "Won In: 14\n",
      "Trailing In: 0\n",
      "\n",
      "Party Name: Indian National Congress\n",
      "Leading In: 0\n",
      "Won In: 14\n",
      "Trailing In: 0\n",
      "\n",
      "Party Name: SARADA PRASANNA JENA\n",
      "Leading In: 0\n",
      "Won In: 51\n",
      "Trailing In: 0\n",
      "\n",
      "Party Name: Biju Janata Dal\n",
      "Leading In: 0\n",
      "Won In: 51\n",
      "Trailing In: 0\n",
      "\n",
      "Party Name: SATYA SARATHI MOHANTY\n",
      "Leading In: 0\n",
      "Won In: 78\n",
      "Trailing In: 0\n",
      "\n",
      "Party Name: Bharatiya Janata Party\n",
      "Leading In: 0\n",
      "Won In: 78\n",
      "Trailing In: 0\n",
      "\n",
      "Party Name: SANJALI MURMU\n",
      "Leading In: 0\n",
      "Won In: 78\n",
      "Trailing In: 0\n",
      "\n",
      "Party Name: Bharatiya Janata Party\n",
      "Leading In: 0\n",
      "Won In: 78\n",
      "Trailing In: 0\n",
      "\n",
      "Party Name: RANJITA MARNDI\n",
      "Leading In: 0\n",
      "Won In: 51\n",
      "Trailing In: 0\n",
      "\n",
      "Party Name: Biju Janata Dal\n",
      "Leading In: 0\n",
      "Won In: 51\n",
      "Trailing In: 0\n",
      "\n",
      "Party Name: DEVI RANJAN TRIPATHY\n",
      "Leading In: 0\n",
      "Won In: 51\n",
      "Trailing In: 0\n",
      "\n",
      "Party Name: Biju Janata Dal\n",
      "Leading In: 0\n",
      "Won In: 51\n",
      "Trailing In: 0\n",
      "\n",
      "Party Name: TUSARA KANTA CHAKRABARTY\n",
      "Leading In: 0\n",
      "Won In: 78\n",
      "Trailing In: 0\n",
      "\n",
      "Party Name: Bharatiya Janata Party\n",
      "Leading In: 0\n",
      "Won In: 78\n",
      "Trailing In: 0\n",
      "\n",
      "Party Name: SOFIA FIRDOUS\n",
      "Leading In: 0\n",
      "Won In: 14\n",
      "Trailing In: 0\n",
      "\n",
      "Party Name: Indian National Congress\n",
      "Leading In: 0\n",
      "Won In: 14\n",
      "Trailing In: 0\n",
      "\n",
      "Party Name: PURNA CHANDRA MAHAPATRA\n",
      "Leading In: 0\n",
      "Won In: 78\n",
      "Trailing In: 0\n",
      "\n",
      "Party Name: Bharatiya Janata Party\n",
      "Leading In: 0\n",
      "Won In: 78\n",
      "Trailing In: 0\n",
      "\n",
      "Party Name: AMAR KUMAR NAYAK\n",
      "Leading In: 0\n",
      "Won In: 78\n",
      "Trailing In: 0\n",
      "\n",
      "Party Name: Bharatiya Janata Party\n",
      "Leading In: 0\n",
      "Won In: 78\n",
      "Trailing In: 0\n",
      "\n",
      "Party Name: VARSHA PRIYADARSHINI\n",
      "Leading In: 0\n",
      "Won In: 51\n",
      "Trailing In: 0\n",
      "\n",
      "Party Name: Biju Janata Dal\n",
      "Leading In: 0\n",
      "Won In: 51\n",
      "Trailing In: 0\n",
      "\n",
      "Party Name: BIJAYA KUMAR DALABEHERA\n",
      "Leading In: 0\n",
      "Won In: 3\n",
      "Trailing In: 0\n",
      "\n",
      "Party Name: Independent\n",
      "Leading In: 0\n",
      "Won In: 3\n",
      "Trailing In: 0\n",
      "\n",
      "Party Name: DEBIPRASAD MISHRA\n",
      "Leading In: 0\n",
      "Won In: 51\n",
      "Trailing In: 0\n",
      "\n",
      "Party Name: Biju Janata Dal\n",
      "Leading In: 0\n",
      "Won In: 51\n",
      "Trailing In: 0\n",
      "\n",
      "Party Name: ASHWINI KUMAR SARANGI\n",
      "Leading In: 0\n",
      "Won In: 78\n",
      "Trailing In: 0\n",
      "\n",
      "Party Name: Bharatiya Janata Party\n",
      "Leading In: 0\n",
      "Won In: 78\n",
      "Trailing In: 0\n",
      "\n",
      "Party Name: DEBESH ACHARYA\n",
      "Leading In: 0\n",
      "Won In: 51\n",
      "Trailing In: 0\n",
      "\n",
      "Party Name: Biju Janata Dal\n",
      "Leading In: 0\n",
      "Won In: 51\n",
      "Trailing In: 0\n",
      "\n",
      "Party Name: BISWA RANJAN MALLICK\n",
      "Leading In: 0\n",
      "Won In: 51\n",
      "Trailing In: 0\n",
      "\n",
      "Party Name: Biju Janata Dal\n",
      "Leading In: 0\n",
      "Won In: 51\n",
      "Trailing In: 0\n",
      "\n",
      "Party Name: UMESH CHANDRA JENA\n",
      "Leading In: 0\n",
      "Won In: 78\n",
      "Trailing In: 0\n",
      "\n",
      "Party Name: Bharatiya Janata Party\n",
      "Leading In: 0\n",
      "Won In: 78\n",
      "Trailing In: 0\n",
      "\n",
      "Party Name: PRAKASH SOREN\n",
      "Leading In: 0\n",
      "Won In: 78\n",
      "Trailing In: 0\n",
      "\n",
      "Party Name: Bharatiya Janata Party\n",
      "Leading In: 0\n",
      "Won In: 78\n",
      "Trailing In: 0\n",
      "\n",
      "Party Name: SANANDA MARNDI\n",
      "Leading In: 0\n",
      "Won In: 51\n",
      "Trailing In: 0\n",
      "\n",
      "Party Name: Biju Janata Dal\n",
      "Leading In: 0\n",
      "Won In: 51\n",
      "Trailing In: 0\n",
      "\n",
      "Party Name: SUBASINI JENA\n",
      "Leading In: 0\n",
      "Won In: 51\n",
      "Trailing In: 0\n",
      "\n",
      "Party Name: Biju Janata Dal\n",
      "Leading In: 0\n",
      "Won In: 51\n",
      "Trailing In: 0\n",
      "\n",
      "Party Name: BIJAN NAYAK\n",
      "Leading In: 0\n",
      "Won In: 14\n",
      "Trailing In: 0\n",
      "\n",
      "Party Name: Indian National Congress\n",
      "Leading In: 0\n",
      "Won In: 14\n",
      "Trailing In: 0\n",
      "\n"
     ]
    }
   ],
   "source": [
    "party_data = []\n",
    "\n",
    "# Find all 'td' tags with 'align' attribute set to 'left'\n",
    "test_tags = doc.find_all('td', {'align': 'left'})\n",
    "\n",
    "for td in test_tags:\n",
    "    party_name = td.text.strip()\n",
    "    details = td.find_next_sibling('td')\n",
    "    if details:\n",
    "        tooltip = details.find('div', class_='tooltip')\n",
    "        if tooltip:\n",
    "            rows = tooltip.find_all('tr')\n",
    "            party_info = {\n",
    "                'Party Name': party_name,\n",
    "                'Leading In': int(rows[0].find_all('td')[2].text.strip()),\n",
    "                'Won In': int(rows[1].find_all('td')[2].text.strip()),\n",
    "                'Trailing In': int(rows[2].find_all('td')[2].text.strip())\n",
    "            }\n",
    "            party_data.append(party_info)\n",
    "\n",
    "# Print the scraped data\n",
    "for party in party_data:\n",
    "    print(f\"Party Name: {party['Party Name']}\")\n",
    "    print(f\"Leading In: {party['Leading In']}\")\n",
    "    print(f\"Won In: {party['Won In']}\")\n",
    "    print(f\"Trailing In: {party['Trailing In']}\")\n",
    "    print()"
   ]
  },
  {
   "cell_type": "code",
   "execution_count": 25,
   "id": "7a2c3728-b04b-49bb-ad36-24929214fb0e",
   "metadata": {},
   "outputs": [
    {
     "data": {
      "text/plain": [
       "11"
      ]
     },
     "execution_count": 25,
     "metadata": {},
     "output_type": "execute_result"
    }
   ],
   "source": [
    "len(th_tags)"
   ]
  },
  {
   "cell_type": "code",
   "execution_count": 26,
   "id": "e1c6d2c2-c476-404b-a3a5-98736b172054",
   "metadata": {},
   "outputs": [
    {
     "data": {
      "text/plain": [
       "140"
      ]
     },
     "execution_count": 26,
     "metadata": {},
     "output_type": "execute_result"
    }
   ],
   "source": [
    "len(div_tags)"
   ]
  },
  {
   "cell_type": "code",
   "execution_count": 27,
   "id": "b07955d5-71f1-475e-9d9c-1821fa6b274a",
   "metadata": {},
   "outputs": [
    {
     "data": {
      "text/plain": [
       "60"
      ]
     },
     "execution_count": 27,
     "metadata": {},
     "output_type": "execute_result"
    }
   ],
   "source": [
    "len(td_tags)"
   ]
  },
  {
   "cell_type": "code",
   "execution_count": null,
   "id": "579246d3-5579-4dd5-a45d-7d16c764a57f",
   "metadata": {},
   "outputs": [],
   "source": []
  },
  {
   "cell_type": "code",
   "execution_count": 29,
   "id": "15ddfecc-2a63-486c-acda-0cfea18e403f",
   "metadata": {},
   "outputs": [
    {
     "data": {
      "text/plain": [
       "[<th colspan=\"9\">Status Known For 147 out of 147 Constituencies</th>,\n",
       " <th style=\"text-align:left\">Constituency  </th>,\n",
       " <th style=\"text-align:left\">Const. No.</th>,\n",
       " <th style=\"text-align:left\">Leading Candidate </th>,\n",
       " <th style=\"text-align:left\">Leading Party </th>,\n",
       " <th style=\"text-align:left\">Trailing Candidate </th>,\n",
       " <th style=\"text-align:left\">Trailing Party </th>,\n",
       " <th style=\"text-align:left\">Margin </th>,\n",
       " <th style=\"text-align:left\">Round</th>,\n",
       " <th style=\"text-align:left\">Status</th>,\n",
       " <th colspan=\"9\"> </th>]"
      ]
     },
     "execution_count": 29,
     "metadata": {},
     "output_type": "execute_result"
    }
   ],
   "source": [
    "th_tags"
   ]
  },
  {
   "cell_type": "code",
   "execution_count": 30,
   "id": "62991249-7c5b-4944-a605-a4557e752d6d",
   "metadata": {},
   "outputs": [
    {
     "data": {
      "text/plain": [
       "[<td align=\"left\">Anandapur</td>,\n",
       " <td align=\"left\">ABHIMANYU SETHI</td>,\n",
       " <td align=\"left\"><table><tbody><tr><td align=\"left\">Biju Janata Dal</td><td><span class=\"tooltip-icon\" style=\"display:block\">i</span><div class=\"tooltip\"><h3 class=\"tooltiptext\">Party Wise State Trends</h3><table class=\"table table-striped\"><tbody><tr><td>Leading In</td><td>:</td><td>0</td></tr><tr><td>Won In</td><td>:</td><td>51</td></tr><tr><td>Trailing In</td><td>:</td><td>0</td></tr></tbody></table></div></td></tr></tbody></table></td>,\n",
       " <td align=\"left\">Biju Janata Dal</td>,\n",
       " <td align=\"left\">JAYADEV JENA</td>,\n",
       " <td align=\"left\">Indian National Congress</td>,\n",
       " <td align=\"left\">Result Declared</td>,\n",
       " <td align=\"left\">Angul</td>,\n",
       " <td align=\"left\">PRATAP CHANDRA PRADHAN</td>,\n",
       " <td align=\"left\"><table><tbody><tr><td align=\"left\">Bharatiya Janata Party</td><td><span class=\"tooltip-icon\" style=\"display:block\">i</span><div class=\"tooltip\"><h3 class=\"tooltiptext\">Party Wise State Trends</h3><table class=\"table table-striped\"><tbody><tr><td>Leading In</td><td>:</td><td>0</td></tr><tr><td>Won In</td><td>:</td><td>78</td></tr><tr><td>Trailing In</td><td>:</td><td>0</td></tr></tbody></table></div></td></tr></tbody></table></td>,\n",
       " <td align=\"left\">Bharatiya Janata Party</td>,\n",
       " <td align=\"left\">SANJUKTA SINGH</td>,\n",
       " <td align=\"left\">Biju Janata Dal</td>,\n",
       " <td align=\"left\">Result Declared</td>,\n",
       " <td align=\"left\">Aska</td>,\n",
       " <td align=\"left\">SAROJ KUMAR PADHI</td>,\n",
       " <td align=\"left\"><table><tbody><tr><td align=\"left\">Bharatiya Janata Party</td><td><span class=\"tooltip-icon\" style=\"display:block\">i</span><div class=\"tooltip\"><h3 class=\"tooltiptext\">Party Wise State Trends</h3><table class=\"table table-striped\"><tbody><tr><td>Leading In</td><td>:</td><td>0</td></tr><tr><td>Won In</td><td>:</td><td>78</td></tr><tr><td>Trailing In</td><td>:</td><td>0</td></tr></tbody></table></div></td></tr></tbody></table></td>,\n",
       " <td align=\"left\">Bharatiya Janata Party</td>,\n",
       " <td align=\"left\">MANJULA SWAIN</td>,\n",
       " <td align=\"left\">Biju Janata Dal</td>,\n",
       " <td align=\"left\">Result Declared</td>,\n",
       " <td align=\"left\">Athagarh</td>,\n",
       " <td align=\"left\">RANENDRA PRATAP SWAIN</td>,\n",
       " <td align=\"left\"><table><tbody><tr><td align=\"left\">Biju Janata Dal</td><td><span class=\"tooltip-icon\" style=\"display:block\">i</span><div class=\"tooltip\"><h3 class=\"tooltiptext\">Party Wise State Trends</h3><table class=\"table table-striped\"><tbody><tr><td>Leading In</td><td>:</td><td>0</td></tr><tr><td>Won In</td><td>:</td><td>51</td></tr><tr><td>Trailing In</td><td>:</td><td>0</td></tr></tbody></table></div></td></tr></tbody></table></td>,\n",
       " <td align=\"left\">Biju Janata Dal</td>,\n",
       " <td align=\"left\">ABHAYA KUMAR BARIK</td>,\n",
       " <td align=\"left\">Bharatiya Janata Party</td>,\n",
       " <td align=\"left\">Result Declared</td>,\n",
       " <td align=\"left\">Athamallik</td>,\n",
       " <td align=\"left\">NALINI KANTA PRADHAN</td>,\n",
       " <td align=\"left\"><table><tbody><tr><td align=\"left\">Biju Janata Dal</td><td><span class=\"tooltip-icon\" style=\"display:block\">i</span><div class=\"tooltip\"><h3 class=\"tooltiptext\">Party Wise State Trends</h3><table class=\"table table-striped\"><tbody><tr><td>Leading In</td><td>:</td><td>0</td></tr><tr><td>Won In</td><td>:</td><td>51</td></tr><tr><td>Trailing In</td><td>:</td><td>0</td></tr></tbody></table></div></td></tr></tbody></table></td>,\n",
       " <td align=\"left\">Biju Janata Dal</td>,\n",
       " <td align=\"left\">SANJEEB KUMAR SAHOO</td>,\n",
       " <td align=\"left\">Bharatiya Janata Party</td>,\n",
       " <td align=\"left\">Result Declared</td>,\n",
       " <td align=\"left\">Attabira</td>,\n",
       " <td align=\"left\">NIHAR RANJAN MAHANAND</td>,\n",
       " <td align=\"left\"><table><tbody><tr><td align=\"left\">Bharatiya Janata Party</td><td><span class=\"tooltip-icon\" style=\"display:block\">i</span><div class=\"tooltip\"><h3 class=\"tooltiptext\">Party Wise State Trends</h3><table class=\"table table-striped\"><tbody><tr><td>Leading In</td><td>:</td><td>0</td></tr><tr><td>Won In</td><td>:</td><td>78</td></tr><tr><td>Trailing In</td><td>:</td><td>0</td></tr></tbody></table></div></td></tr></tbody></table></td>,\n",
       " <td align=\"left\">Bharatiya Janata Party</td>,\n",
       " <td align=\"left\">SNEHANGINI CHHURIA</td>,\n",
       " <td align=\"left\">Biju Janata Dal</td>,\n",
       " <td align=\"left\">Result Declared</td>,\n",
       " <td align=\"left\">Aul</td>,\n",
       " <td align=\"left\">PRATAP KESHARI DEB</td>,\n",
       " <td align=\"left\"><table><tbody><tr><td align=\"left\">Biju Janata Dal</td><td><span class=\"tooltip-icon\" style=\"display:block\">i</span><div class=\"tooltip\"><h3 class=\"tooltiptext\">Party Wise State Trends</h3><table class=\"table table-striped\"><tbody><tr><td>Leading In</td><td>:</td><td>0</td></tr><tr><td>Won In</td><td>:</td><td>51</td></tr><tr><td>Trailing In</td><td>:</td><td>0</td></tr></tbody></table></div></td></tr></tbody></table></td>,\n",
       " <td align=\"left\">Biju Janata Dal</td>,\n",
       " <td align=\"left\">DEBASMITA SHARMA</td>,\n",
       " <td align=\"left\">Indian National Congress</td>,\n",
       " <td align=\"left\">Result Declared</td>,\n",
       " <td align=\"left\">Badasahi</td>,\n",
       " <td align=\"left\">SANATAN BIJULI</td>,\n",
       " <td align=\"left\"><table><tbody><tr><td align=\"left\">Bharatiya Janata Party</td><td><span class=\"tooltip-icon\" style=\"display:block\">i</span><div class=\"tooltip\"><h3 class=\"tooltiptext\">Party Wise State Trends</h3><table class=\"table table-striped\"><tbody><tr><td>Leading In</td><td>:</td><td>0</td></tr><tr><td>Won In</td><td>:</td><td>78</td></tr><tr><td>Trailing In</td><td>:</td><td>0</td></tr></tbody></table></div></td></tr></tbody></table></td>,\n",
       " <td align=\"left\">Bharatiya Janata Party</td>,\n",
       " <td align=\"left\">ANASUYA PATRA</td>,\n",
       " <td align=\"left\">Biju Janata Dal</td>,\n",
       " <td align=\"left\">Result Declared</td>,\n",
       " <td align=\"left\">Balasore</td>,\n",
       " <td align=\"left\">MANAS KUMAR DUTTA</td>,\n",
       " <td align=\"left\"><table><tbody><tr><td align=\"left\">Bharatiya Janata Party</td><td><span class=\"tooltip-icon\" style=\"display:block\">i</span><div class=\"tooltip\"><h3 class=\"tooltiptext\">Party Wise State Trends</h3><table class=\"table table-striped\"><tbody><tr><td>Leading In</td><td>:</td><td>0</td></tr><tr><td>Won In</td><td>:</td><td>78</td></tr><tr><td>Trailing In</td><td>:</td><td>0</td></tr></tbody></table></div></td></tr></tbody></table></td>,\n",
       " <td align=\"left\">Bharatiya Janata Party</td>,\n",
       " <td align=\"left\">SWARUP KUMAR DAS</td>,\n",
       " <td align=\"left\">Biju Janata Dal</td>,\n",
       " <td align=\"left\">Result Declared</td>,\n",
       " <td align=\"left\">Baliguda</td>,\n",
       " <td align=\"left\">CHAKRAMANI KANHAR</td>,\n",
       " <td align=\"left\"><table><tbody><tr><td align=\"left\">Biju Janata Dal</td><td><span class=\"tooltip-icon\" style=\"display:block\">i</span><div class=\"tooltip\"><h3 class=\"tooltiptext\">Party Wise State Trends</h3><table class=\"table table-striped\"><tbody><tr><td>Leading In</td><td>:</td><td>0</td></tr><tr><td>Won In</td><td>:</td><td>51</td></tr><tr><td>Trailing In</td><td>:</td><td>0</td></tr></tbody></table></div></td></tr></tbody></table></td>,\n",
       " <td align=\"left\">Biju Janata Dal</td>,\n",
       " <td align=\"left\">UPENDRA PRADHAN</td>,\n",
       " <td align=\"left\">Indian National Congress</td>,\n",
       " <td align=\"left\">Result Declared</td>,\n",
       " <td align=\"left\">Balikuda-Erasama</td>,\n",
       " <td align=\"left\">SARADA PRASANNA JENA</td>,\n",
       " <td align=\"left\"><table><tbody><tr><td align=\"left\">Biju Janata Dal</td><td><span class=\"tooltip-icon\" style=\"display:block\">i</span><div class=\"tooltip\"><h3 class=\"tooltiptext\">Party Wise State Trends</h3><table class=\"table table-striped\"><tbody><tr><td>Leading In</td><td>:</td><td>0</td></tr><tr><td>Won In</td><td>:</td><td>51</td></tr><tr><td>Trailing In</td><td>:</td><td>0</td></tr></tbody></table></div></td></tr></tbody></table></td>,\n",
       " <td align=\"left\">Biju Janata Dal</td>,\n",
       " <td align=\"left\">SATYA SARATHI MOHANTY</td>,\n",
       " <td align=\"left\">Bharatiya Janata Party</td>,\n",
       " <td align=\"left\">Result Declared</td>,\n",
       " <td align=\"left\">Bangriposi</td>,\n",
       " <td align=\"left\">SANJALI MURMU</td>,\n",
       " <td align=\"left\"><table><tbody><tr><td align=\"left\">Bharatiya Janata Party</td><td><span class=\"tooltip-icon\" style=\"display:block\">i</span><div class=\"tooltip\"><h3 class=\"tooltiptext\">Party Wise State Trends</h3><table class=\"table table-striped\"><tbody><tr><td>Leading In</td><td>:</td><td>0</td></tr><tr><td>Won In</td><td>:</td><td>78</td></tr><tr><td>Trailing In</td><td>:</td><td>0</td></tr></tbody></table></div></td></tr></tbody></table></td>,\n",
       " <td align=\"left\">Bharatiya Janata Party</td>,\n",
       " <td align=\"left\">RANJITA MARNDI</td>,\n",
       " <td align=\"left\">Biju Janata Dal</td>,\n",
       " <td align=\"left\">Result Declared</td>,\n",
       " <td align=\"left\">Banki</td>,\n",
       " <td align=\"left\">DEVI RANJAN TRIPATHY</td>,\n",
       " <td align=\"left\"><table><tbody><tr><td align=\"left\">Biju Janata Dal</td><td><span class=\"tooltip-icon\" style=\"display:block\">i</span><div class=\"tooltip\"><h3 class=\"tooltiptext\">Party Wise State Trends</h3><table class=\"table table-striped\"><tbody><tr><td>Leading In</td><td>:</td><td>0</td></tr><tr><td>Won In</td><td>:</td><td>51</td></tr><tr><td>Trailing In</td><td>:</td><td>0</td></tr></tbody></table></div></td></tr></tbody></table></td>,\n",
       " <td align=\"left\">Biju Janata Dal</td>,\n",
       " <td align=\"left\">TUSARA KANTA CHAKRABARTY</td>,\n",
       " <td align=\"left\">Bharatiya Janata Party</td>,\n",
       " <td align=\"left\">Result Declared</td>,\n",
       " <td align=\"left\">Barabati-Cuttack</td>,\n",
       " <td align=\"left\">SOFIA FIRDOUS</td>,\n",
       " <td align=\"left\"><table><tbody><tr><td align=\"left\">Indian National Congress</td><td><span class=\"tooltip-icon\" style=\"display:block\">i</span><div class=\"tooltip\"><h3 class=\"tooltiptext\">Party Wise State Trends</h3><table class=\"table table-striped\"><tbody><tr><td>Leading In</td><td>:</td><td>0</td></tr><tr><td>Won In</td><td>:</td><td>14</td></tr><tr><td>Trailing In</td><td>:</td><td>0</td></tr></tbody></table></div></td></tr></tbody></table></td>,\n",
       " <td align=\"left\">Indian National Congress</td>,\n",
       " <td align=\"left\">PURNA CHANDRA MAHAPATRA</td>,\n",
       " <td align=\"left\">Bharatiya Janata Party</td>,\n",
       " <td align=\"left\">Result Declared</td>,\n",
       " <td align=\"left\">Barachana</td>,\n",
       " <td align=\"left\">AMAR KUMAR NAYAK</td>,\n",
       " <td align=\"left\"><table><tbody><tr><td align=\"left\">Bharatiya Janata Party</td><td><span class=\"tooltip-icon\" style=\"display:block\">i</span><div class=\"tooltip\"><h3 class=\"tooltiptext\">Party Wise State Trends</h3><table class=\"table table-striped\"><tbody><tr><td>Leading In</td><td>:</td><td>0</td></tr><tr><td>Won In</td><td>:</td><td>78</td></tr><tr><td>Trailing In</td><td>:</td><td>0</td></tr></tbody></table></div></td></tr></tbody></table></td>,\n",
       " <td align=\"left\">Bharatiya Janata Party</td>,\n",
       " <td align=\"left\">VARSHA PRIYADARSHINI</td>,\n",
       " <td align=\"left\">Biju Janata Dal</td>,\n",
       " <td align=\"left\">Result Declared</td>,\n",
       " <td align=\"left\">Baramba</td>,\n",
       " <td align=\"left\">BIJAYA KUMAR DALABEHERA</td>,\n",
       " <td align=\"left\"><table><tbody><tr><td align=\"left\">Independent</td><td><span class=\"tooltip-icon\" style=\"display:block\">i</span><div class=\"tooltip\"><h3 class=\"tooltiptext\">Party Wise State Trends</h3><table class=\"table table-striped\"><tbody><tr><td>Leading In</td><td>:</td><td>0</td></tr><tr><td>Won In</td><td>:</td><td>3</td></tr><tr><td>Trailing In</td><td>:</td><td>0</td></tr></tbody></table></div></td></tr></tbody></table></td>,\n",
       " <td align=\"left\">Independent</td>,\n",
       " <td align=\"left\">DEBIPRASAD MISHRA</td>,\n",
       " <td align=\"left\">Biju Janata Dal</td>,\n",
       " <td align=\"left\">Result Declared</td>,\n",
       " <td align=\"left\">Bargarh</td>,\n",
       " <td align=\"left\">ASHWINI KUMAR SARANGI</td>,\n",
       " <td align=\"left\"><table><tbody><tr><td align=\"left\">Bharatiya Janata Party</td><td><span class=\"tooltip-icon\" style=\"display:block\">i</span><div class=\"tooltip\"><h3 class=\"tooltiptext\">Party Wise State Trends</h3><table class=\"table table-striped\"><tbody><tr><td>Leading In</td><td>:</td><td>0</td></tr><tr><td>Won In</td><td>:</td><td>78</td></tr><tr><td>Trailing In</td><td>:</td><td>0</td></tr></tbody></table></div></td></tr></tbody></table></td>,\n",
       " <td align=\"left\">Bharatiya Janata Party</td>,\n",
       " <td align=\"left\">DEBESH ACHARYA</td>,\n",
       " <td align=\"left\">Biju Janata Dal</td>,\n",
       " <td align=\"left\">Result Declared</td>,\n",
       " <td align=\"left\">Bari</td>,\n",
       " <td align=\"left\">BISWA RANJAN MALLICK</td>,\n",
       " <td align=\"left\"><table><tbody><tr><td align=\"left\">Biju Janata Dal</td><td><span class=\"tooltip-icon\" style=\"display:block\">i</span><div class=\"tooltip\"><h3 class=\"tooltiptext\">Party Wise State Trends</h3><table class=\"table table-striped\"><tbody><tr><td>Leading In</td><td>:</td><td>0</td></tr><tr><td>Won In</td><td>:</td><td>51</td></tr><tr><td>Trailing In</td><td>:</td><td>0</td></tr></tbody></table></div></td></tr></tbody></table></td>,\n",
       " <td align=\"left\">Biju Janata Dal</td>,\n",
       " <td align=\"left\">UMESH CHANDRA JENA</td>,\n",
       " <td align=\"left\">Bharatiya Janata Party</td>,\n",
       " <td align=\"left\">Result Declared</td>,\n",
       " <td align=\"left\">Baripada</td>,\n",
       " <td align=\"left\">PRAKASH SOREN</td>,\n",
       " <td align=\"left\"><table><tbody><tr><td align=\"left\">Bharatiya Janata Party</td><td><span class=\"tooltip-icon\" style=\"display:block\">i</span><div class=\"tooltip\"><h3 class=\"tooltiptext\">Party Wise State Trends</h3><table class=\"table table-striped\"><tbody><tr><td>Leading In</td><td>:</td><td>0</td></tr><tr><td>Won In</td><td>:</td><td>78</td></tr><tr><td>Trailing In</td><td>:</td><td>0</td></tr></tbody></table></div></td></tr></tbody></table></td>,\n",
       " <td align=\"left\">Bharatiya Janata Party</td>,\n",
       " <td align=\"left\">SANANDA MARNDI</td>,\n",
       " <td align=\"left\">Biju Janata Dal</td>,\n",
       " <td align=\"left\">Result Declared</td>,\n",
       " <td align=\"left\">Basta</td>,\n",
       " <td align=\"left\">SUBASINI JENA</td>,\n",
       " <td align=\"left\"><table><tbody><tr><td align=\"left\">Biju Janata Dal</td><td><span class=\"tooltip-icon\" style=\"display:block\">i</span><div class=\"tooltip\"><h3 class=\"tooltiptext\">Party Wise State Trends</h3><table class=\"table table-striped\"><tbody><tr><td>Leading In</td><td>:</td><td>0</td></tr><tr><td>Won In</td><td>:</td><td>51</td></tr><tr><td>Trailing In</td><td>:</td><td>0</td></tr></tbody></table></div></td></tr></tbody></table></td>,\n",
       " <td align=\"left\">Biju Janata Dal</td>,\n",
       " <td align=\"left\">BIJAN NAYAK</td>,\n",
       " <td align=\"left\">Indian National Congress</td>,\n",
       " <td align=\"left\">Result Declared</td>]"
      ]
     },
     "execution_count": 30,
     "metadata": {},
     "output_type": "execute_result"
    }
   ],
   "source": [
    "div_tags"
   ]
  },
  {
   "cell_type": "code",
   "execution_count": 31,
   "id": "3e0c3e72-1c7b-49f7-b0bd-086f961e9d95",
   "metadata": {},
   "outputs": [
    {
     "data": {
      "text/plain": [
       "[<td align=\"right\">22</td>,\n",
       " <td align=\"right\">10966</td>,\n",
       " <td align=\"right\">25/25</td>,\n",
       " <td align=\"right\">61</td>,\n",
       " <td align=\"right\">17433</td>,\n",
       " <td align=\"right\">21/21</td>,\n",
       " <td align=\"right\">128</td>,\n",
       " <td align=\"right\">8059</td>,\n",
       " <td align=\"right\">15/15</td>,\n",
       " <td align=\"right\">89</td>,\n",
       " <td align=\"right\">3584</td>,\n",
       " <td align=\"right\">19/19</td>,\n",
       " <td align=\"right\">63</td>,\n",
       " <td align=\"right\">16153</td>,\n",
       " <td align=\"right\">21/21</td>,\n",
       " <td align=\"right\">4</td>,\n",
       " <td align=\"right\">28910</td>,\n",
       " <td align=\"right\">19/19</td>,\n",
       " <td align=\"right\">98</td>,\n",
       " <td align=\"right\">19628</td>,\n",
       " <td align=\"right\">32/32</td>,\n",
       " <td align=\"right\">32</td>,\n",
       " <td align=\"right\">37387</td>,\n",
       " <td align=\"right\">20/20</td>,\n",
       " <td align=\"right\">38</td>,\n",
       " <td align=\"right\">28626</td>,\n",
       " <td align=\"right\">18/18</td>,\n",
       " <td align=\"right\">82</td>,\n",
       " <td align=\"right\">1671</td>,\n",
       " <td align=\"right\">19/19</td>,\n",
       " <td align=\"right\">103</td>,\n",
       " <td align=\"right\">25959</td>,\n",
       " <td align=\"right\">18/18</td>,\n",
       " <td align=\"right\">29</td>,\n",
       " <td align=\"right\">34476</td>,\n",
       " <td align=\"right\">26/26</td>,\n",
       " <td align=\"right\">88</td>,\n",
       " <td align=\"right\">17026</td>,\n",
       " <td align=\"right\">18/18</td>,\n",
       " <td align=\"right\">90</td>,\n",
       " <td align=\"right\">8001</td>,\n",
       " <td align=\"right\">18/18</td>,\n",
       " <td align=\"right\">50</td>,\n",
       " <td align=\"right\">6310</td>,\n",
       " <td align=\"right\">19/19</td>,\n",
       " <td align=\"right\">87</td>,\n",
       " <td align=\"right\">23479</td>,\n",
       " <td align=\"right\">22/22</td>,\n",
       " <td align=\"right\">3</td>,\n",
       " <td align=\"right\">4772</td>,\n",
       " <td align=\"right\">17/17</td>,\n",
       " <td align=\"right\">49</td>,\n",
       " <td align=\"right\">51465</td>,\n",
       " <td align=\"right\">19/19</td>,\n",
       " <td align=\"right\">33</td>,\n",
       " <td align=\"right\">29385</td>,\n",
       " <td align=\"right\">27/27</td>,\n",
       " <td align=\"right\">37</td>,\n",
       " <td align=\"right\">20377</td>,\n",
       " <td align=\"right\">26/26</td>]"
      ]
     },
     "execution_count": 31,
     "metadata": {},
     "output_type": "execute_result"
    }
   ],
   "source": [
    "td_tags"
   ]
  },
  {
   "cell_type": "code",
   "execution_count": null,
   "id": "c7e85f3a-8869-43d8-9ae9-f1318fc92ff1",
   "metadata": {},
   "outputs": [],
   "source": []
  },
  {
   "cell_type": "code",
   "execution_count": null,
   "id": "c52f5384-15d9-4209-812a-d76f2279a86e",
   "metadata": {},
   "outputs": [],
   "source": []
  },
  {
   "cell_type": "code",
   "execution_count": 34,
   "id": "e4341169-e807-4860-ba35-bf7370b717bc",
   "metadata": {},
   "outputs": [
    {
     "name": "stdout",
     "output_type": "stream",
     "text": [
      "Requirement already satisfied: pandas in c:\\users\\tanis\\anaconda3\\lib\\site-packages (2.2.2)\n",
      "Requirement already satisfied: numpy>=1.26.0 in c:\\users\\tanis\\anaconda3\\lib\\site-packages (from pandas) (1.26.4)\n",
      "Requirement already satisfied: python-dateutil>=2.8.2 in c:\\users\\tanis\\anaconda3\\lib\\site-packages (from pandas) (2.9.0.post0)\n",
      "Requirement already satisfied: pytz>=2020.1 in c:\\users\\tanis\\anaconda3\\lib\\site-packages (from pandas) (2024.1)\n",
      "Requirement already satisfied: tzdata>=2022.7 in c:\\users\\tanis\\anaconda3\\lib\\site-packages (from pandas) (2023.3)\n",
      "Requirement already satisfied: six>=1.5 in c:\\users\\tanis\\anaconda3\\lib\\site-packages (from python-dateutil>=2.8.2->pandas) (1.16.0)\n"
     ]
    }
   ],
   "source": [
    "## Create a CSV file with extracted info\n",
    "!pip install pandas"
   ]
  },
  {
   "cell_type": "code",
   "execution_count": 35,
   "id": "81559f09-d225-4c0a-beb0-73959d542125",
   "metadata": {},
   "outputs": [],
   "source": [
    "import pandas as pd"
   ]
  },
  {
   "cell_type": "code",
   "execution_count": 36,
   "id": "e44e73d8-cedf-4454-be0f-83e655441697",
   "metadata": {},
   "outputs": [],
   "source": [
    "x = pd.DataFrame(th_tags)\n",
    "y = pd.DataFrame(td_tags)"
   ]
  },
  {
   "cell_type": "code",
   "execution_count": 37,
   "id": "e1d00243-62a3-4a24-b790-c7424ccedd47",
   "metadata": {},
   "outputs": [],
   "source": [
    "\n",
    "\n",
    "file_name = 'th.csv'\n",
    "file_name_1 =  'td.csv'                       # Replace 'output.csv' with your desired file path and name\n",
    "x.to_csv(file_name)\n",
    "y.to_csv(file_name_1)\n"
   ]
  },
  {
   "cell_type": "code",
   "execution_count": 38,
   "id": "e0a7a073-7471-4810-a0a7-e4b30c4ba9c0",
   "metadata": {},
   "outputs": [
    {
     "name": "stdout",
     "output_type": "stream",
     "text": [
      "CSV file 'party_data.csv' has been generated successfully.\n"
     ]
    }
   ],
   "source": [
    "import requests\n",
    "from bs4 import BeautifulSoup\n",
    "import csv\n",
    "\n",
    "url = 'https://results.eci.gov.in/AcResultGenJune2024/statewiseS181.htm'  # Replace with your actual URL\n",
    "response = requests.get(url)\n",
    "doc = BeautifulSoup(response.text, 'html.parser')\n",
    "\n",
    "party_data = []\n",
    "\n",
    "# Find all 'td' tags with 'align' attribute set to 'left'\n",
    "test_tags = doc.find_all('td', {'align': 'left'})\n",
    "\n",
    "for td in test_tags:\n",
    "    party_name = td.text.strip()\n",
    "    details = td.find_next_sibling('td')\n",
    "    if details:\n",
    "        tooltip = details.find('div', class_='tooltip')\n",
    "        if tooltip:\n",
    "            rows = tooltip.find_all('tr')\n",
    "            party_info = {\n",
    "                'Party Name': party_name,\n",
    "                'Leading In': int(rows[0].find_all('td')[2].text.strip()),\n",
    "                'Won In': int(rows[1].find_all('td')[2].text.strip()),\n",
    "                'Trailing In': int(rows[2].find_all('td')[2].text.strip())\n",
    "            }\n",
    "            party_data.append(party_info)\n",
    "\n",
    "# Define the CSV file path\n",
    "csv_file = 'party_data.csv'\n",
    "\n",
    "# Define the fieldnames for the CSV header\n",
    "fieldnames = ['Party Name', 'Leading In', 'Won In', 'Trailing In']\n",
    "\n",
    "# Write the scraped data to the CSV file\n",
    "with open(csv_file, 'w', newline='', encoding='utf-8') as csvfile:\n",
    "    writer = csv.DictWriter(csvfile, fieldnames=fieldnames)\n",
    "    \n",
    "    # Write header\n",
    "    writer.writeheader()\n",
    "    \n",
    "    # Write data rows\n",
    "    for party in party_data:\n",
    "        writer.writerow(party)\n",
    "\n",
    "print(f\"CSV file '{csv_file}' has been generated successfully.\")\n"
   ]
  },
  {
   "cell_type": "code",
   "execution_count": null,
   "id": "3b144c9c-f407-485d-a2c0-90494557c6cf",
   "metadata": {},
   "outputs": [],
   "source": []
  },
  {
   "cell_type": "code",
   "execution_count": 40,
   "id": "78b96e8a-f522-4f74-b734-c4b7e535eacd",
   "metadata": {},
   "outputs": [],
   "source": [
    "## Document and share your work"
   ]
  },
  {
   "cell_type": "code",
   "execution_count": 41,
   "id": "d66b61a4-0c27-4d4c-9697-ff516cb9aae0",
   "metadata": {},
   "outputs": [
    {
     "name": "stdout",
     "output_type": "stream",
     "text": [
      "Combined CSV file 'combined_data.csv' has been generated successfully.\n"
     ]
    }
   ],
   "source": [
    "\n",
    "\n",
    "# Load data from CSV files\n",
    "party_df = pd.read_csv('party_data.csv')\n",
    "th_df = pd.read_csv('th.csv')\n",
    "td_df = pd.read_csv('td.csv')\n",
    "\n",
    "# Extract and structure data from 'td.csv'\n",
    "td_data = td_df.iloc[:, 1].tolist()\n",
    "structured_td_data = [td_data[i:i+3] for i in range(0, len(td_data), 3)]\n",
    "\n",
    "# Create a DataFrame for the structured 'td' data\n",
    "td_columns = ['Const. No', 'Margin', 'Round']\n",
    "structured_td_df = pd.DataFrame(structured_td_data, columns=td_columns)\n",
    "\n",
    "# Combine 'party_data' with structured 'td' data\n",
    "combined_df = pd.concat([party_df, structured_td_df], axis=1)\n",
    "\n",
    "# Extract and structure headers from 'th.csv'\n",
    "headers = th_df.iloc[:, 1].tolist()\n",
    "headers = [header.strip() for header in headers if header.strip()]\n",
    "\n",
    "# Add new columns to combined_df based on extracted headers\n",
    "combined_df = combined_df.reindex(columns=headers + combined_df.columns.tolist())\n",
    "\n",
    "# Save the combined DataFrame to a new CSV file\n",
    "combined_csv_file = 'combined_data.csv'\n",
    "combined_df.to_csv(combined_csv_file, index=False)\n",
    "\n",
    "print(f\"Combined CSV file '{combined_csv_file}' has been generated successfully.\")"
   ]
  },
  {
   "cell_type": "code",
   "execution_count": null,
   "id": "c7bb704a-12a2-4920-b325-d6791d916125",
   "metadata": {},
   "outputs": [],
   "source": []
  },
  {
   "cell_type": "code",
   "execution_count": null,
   "id": "7444630c-b36b-4220-8f72-201283cbdb22",
   "metadata": {},
   "outputs": [],
   "source": []
  },
  {
   "cell_type": "code",
   "execution_count": null,
   "id": "ccad48e7-0fb4-43d8-bb74-f0894992512e",
   "metadata": {},
   "outputs": [],
   "source": []
  },
  {
   "cell_type": "code",
   "execution_count": 45,
   "id": "85540a14-6299-45cd-9b9a-802287aa512c",
   "metadata": {},
   "outputs": [
    {
     "name": "stdout",
     "output_type": "stream",
     "text": [
      "Combined CSV file 'combined_data.csv' has been generated successfully.\n"
     ]
    }
   ],
   "source": [
    "\n",
    "# Load data from CSV files\n",
    "party_df = pd.read_csv('party_data.csv')\n",
    "th_df = pd.read_csv('th.csv')\n",
    "td_df = pd.read_csv('td.csv')\n",
    "\n",
    "# Extract and structure data from 'td.csv'\n",
    "td_data = td_df.iloc[:, 1].tolist()\n",
    "structured_td_data = [td_data[i:i+3] for i in range(0, len(td_data), 3)]\n",
    "\n",
    "# Create a DataFrame for the structured 'td' data\n",
    "td_columns = ['Const. No', 'Margin', 'Round']\n",
    "structured_td_df = pd.DataFrame(structured_td_data, columns=td_columns)\n",
    "\n",
    "# Combine 'party_data' with structured 'td' data\n",
    "combined_df = pd.concat([party_df, structured_td_df], axis=1)\n",
    "\n",
    "# Extract headers from 'th.csv'\n",
    "headers = th_df.iloc[:, 1].tolist()\n",
    "headers = [header.strip() for header in headers if header.strip()]\n",
    "\n",
    "# Prepare final columns list for the combined DataFrame\n",
    "final_columns = ['Party Name', 'Leading In', 'Won In', 'Trailing In','Constituency name'] + ['Constituency Number', 'Margin', 'Round']\n",
    "\n",
    "# Reindex combined_df with final columns list, adding headers from 'th.csv' if needed\n",
    "combined_df = combined_df.reindex(columns=final_columns)\n",
    "\n",
    "# Save the combined DataFrame to a new CSV file\n",
    "combined_csv_file = 'combined_data.csv'\n",
    "combined_df.to_csv(combined_csv_file, index=False)\n",
    "\n",
    "print(f\"Combined CSV file '{combined_csv_file}' has been generated successfully.\")"
   ]
  },
  {
   "cell_type": "code",
   "execution_count": null,
   "id": "471d04ef-58c9-4105-96b3-7bd9e0276392",
   "metadata": {},
   "outputs": [],
   "source": []
  },
  {
   "cell_type": "code",
   "execution_count": null,
   "id": "215c71e9-95c1-4b69-b795-f3e71f7e7a1d",
   "metadata": {},
   "outputs": [],
   "source": []
  },
  {
   "cell_type": "code",
   "execution_count": 48,
   "id": "969d4686-2efc-47a9-8df7-0469f79dfe85",
   "metadata": {},
   "outputs": [
    {
     "name": "stdout",
     "output_type": "stream",
     "text": [
      "Combined CSV file 'combined_data.csv' has been generated successfully.\n"
     ]
    }
   ],
   "source": [
    "\n",
    "\n",
    "# Load the webpage content\n",
    "url = 'https://results.eci.gov.in/AcResultGenJune2024/statewiseS181.htm'\n",
    "response = requests.get(url)\n",
    "doc = BeautifulSoup(response.text, 'html.parser')\n",
    "\n",
    "# Extract 'th' tags and convert to DataFrame\n",
    "th_tags = doc.find_all('th')\n",
    "th_data = [th.get_text(strip=True) for th in th_tags]\n",
    "th_df = pd.DataFrame(th_data, columns=['Header'])\n",
    "\n",
    "# Extract 'td' tags with 'align' attribute set to 'right' and convert to DataFrame\n",
    "td_tags = doc.find_all('td', {'align': 'right'})\n",
    "td_data = [td.get_text(strip=True) for td in td_tags]\n",
    "td_df = pd.DataFrame(td_data, columns=['Data'])\n",
    "\n",
    "# Extract constituency names from 'td' tags with 'align' attribute set to 'left'\n",
    "selection_class = 'left'\n",
    "constituency_tags = doc.find_all('td', {'align': selection_class})\n",
    "constituency_names = []\n",
    "\n",
    "for tag in constituency_tags:\n",
    "    # Only include tags that contain constituency names (you may need to adjust this based on the specific structure)\n",
    "    text = tag.get_text(strip=True)\n",
    "    if \"constituency\" in text.lower() or \"candidate\" not in text.lower():\n",
    "        constituency_names.append(text)\n",
    "\n",
    "constituency_df = pd.DataFrame(constituency_names, columns=['Constituency Name'])\n",
    "\n",
    "# Structure 'td' data\n",
    "td_data_grouped = [td_data[i:i+3] for i in range(0, len(td_data), 3)]\n",
    "td_columns = ['Const. No', 'Margin', 'Round']\n",
    "structured_td_df = pd.DataFrame(td_data_grouped, columns=td_columns)\n",
    "\n",
    "# Load party data\n",
    "party_df = pd.read_csv('party_data.csv')\n",
    "\n",
    "# Combine all data into one DataFrame\n",
    "combined_df = pd.concat([party_df, constituency_df, structured_td_df], axis=1)\n",
    "\n",
    "# Save the final DataFrame to a new CSV file\n",
    "combined_csv_file = 'combined_data.csv'\n",
    "combined_df.to_csv(combined_csv_file, index=False)\n",
    "\n",
    "print(f\"Combined CSV file '{combined_csv_file}' has been generated successfully.\")"
   ]
  },
  {
   "cell_type": "code",
   "execution_count": null,
   "id": "730d3568-fbd0-4108-b4ba-f3477fdd9055",
   "metadata": {},
   "outputs": [],
   "source": []
  },
  {
   "cell_type": "code",
   "execution_count": null,
   "id": "6a08903a-c674-4d34-9de7-0d7566db698e",
   "metadata": {},
   "outputs": [],
   "source": []
  },
  {
   "cell_type": "code",
   "execution_count": null,
   "id": "4fc2c693-6230-4074-8e89-d9cee0bebb46",
   "metadata": {},
   "outputs": [],
   "source": []
  },
  {
   "cell_type": "code",
   "execution_count": null,
   "id": "9a8b9859-e0a7-485d-858a-4b06d49dd9aa",
   "metadata": {},
   "outputs": [],
   "source": []
  },
  {
   "cell_type": "code",
   "execution_count": null,
   "id": "e1ed2902-c80c-4201-8872-f3ef6bbb85a8",
   "metadata": {},
   "outputs": [],
   "source": []
  },
  {
   "cell_type": "code",
   "execution_count": 54,
   "id": "c9f4d2e2-e65f-4851-9242-9890a33c85a0",
   "metadata": {},
   "outputs": [
    {
     "name": "stdout",
     "output_type": "stream",
     "text": [
      "Combined CSV file 'combined_data.csv' has been generated successfully.\n"
     ]
    }
   ],
   "source": [
    "\n",
    "\n",
    "# Load the webpage content\n",
    "url = 'https://results.eci.gov.in/AcResultGenJune2024/statewiseS181.htm'\n",
    "response = requests.get(url)\n",
    "doc = BeautifulSoup(response.text, 'html.parser')\n",
    "\n",
    "# Extract 'th' tags and convert to DataFrame\n",
    "th_tags = doc.find_all('th')\n",
    "th_data = [th.get_text(strip=True) for th in th_tags]\n",
    "th_df = pd.DataFrame(th_data, columns=['Header'])\n",
    "\n",
    "# Extract 'td' tags with 'align' attribute set to 'right' and convert to DataFrame\n",
    "td_tags = doc.find_all('td', {'align': 'right'})\n",
    "td_data = [td.get_text(strip=True) for td in td_tags]\n",
    "td_df = pd.DataFrame(td_data, columns=['Data'])\n",
    "\n",
    "# Extract constituency names from 'td' tags with 'align' attribute set to 'left'\n",
    "selection_class = 'left'\n",
    "constituency_tags = doc.find_all('td', {'align': selection_class})\n",
    "constituency_names = [tag.get_text(strip=True) for tag in constituency_tags]\n",
    "constituency_df = pd.DataFrame(constituency_names, columns=['Constituency Name'])\n",
    "\n",
    "# Load structured 'td' data\n",
    "td_data_grouped = [td_data[i:i+3] for i in range(0, len(td_data), 3)]\n",
    "td_columns = ['Const. No', 'Margin', 'Round']\n",
    "structured_td_df = pd.DataFrame(td_data_grouped, columns=td_columns)\n",
    "\n",
    "# Load party data from existing CSV\n",
    "party_df = pd.read_csv('party_data.csv')\n",
    "\n",
    "# Load constituency names from another CSV file\n",
    "constituencies_file = 'constituencies_andra.csv'\n",
    "constituencies_df = pd.read_csv(constituencies_file)\n",
    "\n",
    "# Combine all data into one DataFrame\n",
    "combined_df = pd.concat([party_df, constituencies_df, structured_td_df], axis=1)\n",
    "\n",
    "# Extract headers from 'th.csv' if needed and set final columns\n",
    "# headers = th_df.iloc[:, 1].tolist()\n",
    "# headers = [header.strip() for header in headers if header.strip()]\n",
    "# final_columns = ['Party Name', 'Leading In', 'Won In', 'Trailing In', 'Constituency Name', 'Const. No', 'Margin', 'Round']\n",
    "\n",
    "# combined_df = combined_df.reindex(columns=final_columns)\n",
    "\n",
    "# Save the final DataFrame to a new CSV file\n",
    "combined_csv_file = 'combined_data.csv'\n",
    "combined_df.to_csv(combined_csv_file, index=False)\n",
    "\n",
    "print(f\"Combined CSV file '{combined_csv_file}' has been generated successfully.\")"
   ]
  },
  {
   "cell_type": "code",
   "execution_count": null,
   "id": "0273dd36-b579-4c13-984a-4573a3cdc3a0",
   "metadata": {},
   "outputs": [],
   "source": []
  },
  {
   "cell_type": "code",
   "execution_count": null,
   "id": "328711d0-c868-46df-87fe-5f02b22728ba",
   "metadata": {},
   "outputs": [],
   "source": []
  },
  {
   "cell_type": "code",
   "execution_count": 58,
   "id": "dfa5b72c-08ac-4d3b-b761-3bc66a13d1c7",
   "metadata": {},
   "outputs": [
    {
     "name": "stdout",
     "output_type": "stream",
     "text": [
      "Combined CSV file 'combined_data_odisha.csv' has been generated successfully.\n"
     ]
    }
   ],
   "source": [
    "\n",
    "\n",
    "# Load the webpage content\n",
    "url = 'https://results.eci.gov.in/AcResultGenJune2024/statewiseS181.htm'\n",
    "response = requests.get(url)\n",
    "doc = BeautifulSoup(response.text, 'html.parser')\n",
    "\n",
    "# Extract 'th' tags and convert to DataFrame\n",
    "th_tags = doc.find_all('th')\n",
    "th_data = [th.get_text(strip=True) for th in th_tags]\n",
    "th_df = pd.DataFrame(th_data, columns=['Header'])\n",
    "\n",
    "# Extract 'td' tags with 'align' attribute set to 'right' and convert to DataFrame\n",
    "td_tags = doc.find_all('td', {'align': 'right'})\n",
    "td_data = [td.get_text(strip=True) for td in td_tags]\n",
    "td_df = pd.DataFrame(td_data, columns=['Data'])\n",
    "\n",
    "# Extract constituency names from 'td' tags with 'align' attribute set to 'left'\n",
    "selection_class = 'left'\n",
    "constituency_tags = doc.find_all('td', {'align': selection_class})\n",
    "constituency_names = [tag.get_text(strip=True) for tag in constituency_tags]\n",
    "constituency_df = pd.DataFrame(constituency_names, columns=['Constituency Name'])\n",
    "\n",
    "# Load structured 'td' data\n",
    "td_data_grouped = [td_data[i:i+3] for i in range(0, len(td_data), 3)]\n",
    "td_columns = ['Const. No', 'Margin', 'Round']\n",
    "structured_td_df = pd.DataFrame(td_data_grouped, columns=td_columns)\n",
    "\n",
    "# Load party data from existing CSV\n",
    "party_df = pd.read_csv('party_data.csv')\n",
    "\n",
    "# Load constituency names from another CSV file\n",
    "constituencies_file = 'constituencies_odisha.csv'\n",
    "constituencies_df = pd.read_csv(constituencies_file)\n",
    "\n",
    "# Combine all data into one DataFrame\n",
    "combined_df = pd.concat([party_df, constituencies_df, structured_td_df], axis=1)\n",
    "\n",
    "# Extract headers from 'th.csv' if needed and set final columns\n",
    "# headers = th_df.iloc[:, 1].tolist()\n",
    "# headers = [header.strip() for header in headers if header.strip()]\n",
    "# final_columns = ['Party Name', 'Leading In', 'Won In', 'Trailing In', 'Constituency Name', 'Const. No', 'Margin', 'Round']\n",
    "\n",
    "# combined_df = combined_df.reindex(columns=final_columns)\n",
    "\n",
    "# Save the final DataFrame to a new CSV file\n",
    "combined_csv_file = 'combined_data_odisha.csv'\n",
    "combined_df.to_csv(combined_csv_file, index=False)\n",
    "\n",
    "print(f\"Combined CSV file '{combined_csv_file}' has been generated successfully.\")"
   ]
  },
  {
   "cell_type": "code",
   "execution_count": null,
   "id": "f86beb76-4d27-4a21-95dd-a454206a120f",
   "metadata": {},
   "outputs": [],
   "source": []
  },
  {
   "cell_type": "code",
   "execution_count": null,
   "id": "429e07ba-6d3a-484e-adbb-0b7986f28f15",
   "metadata": {},
   "outputs": [],
   "source": []
  },
  {
   "cell_type": "code",
   "execution_count": null,
   "id": "0037665b-9b8a-4d48-9155-ef04d0cc06f8",
   "metadata": {},
   "outputs": [],
   "source": []
  },
  {
   "cell_type": "code",
   "execution_count": null,
   "id": "501d5bdc-7768-4945-8b69-6cb2f543fee8",
   "metadata": {},
   "outputs": [],
   "source": []
  },
  {
   "cell_type": "code",
   "execution_count": null,
   "id": "afba227b-2f9d-4cd8-b139-93098e2b7971",
   "metadata": {},
   "outputs": [],
   "source": []
  },
  {
   "cell_type": "code",
   "execution_count": null,
   "id": "89c9a654-366d-4ba1-8ca0-638727876c98",
   "metadata": {},
   "outputs": [],
   "source": []
  },
  {
   "cell_type": "code",
   "execution_count": null,
   "id": "5e8af57b-406d-47e5-b2de-b871ed0b59b4",
   "metadata": {},
   "outputs": [],
   "source": []
  },
  {
   "cell_type": "code",
   "execution_count": null,
   "id": "d0f64e65-8431-49a8-851d-c083c1ad07cb",
   "metadata": {},
   "outputs": [],
   "source": []
  },
  {
   "cell_type": "code",
   "execution_count": null,
   "id": "3317b834-0108-4873-a17e-7d140c496c58",
   "metadata": {},
   "outputs": [],
   "source": []
  }
 ],
 "metadata": {
  "kernelspec": {
   "display_name": "Python 3 (ipykernel)",
   "language": "python",
   "name": "python3"
  },
  "language_info": {
   "codemirror_mode": {
    "name": "ipython",
    "version": 3
   },
   "file_extension": ".py",
   "mimetype": "text/x-python",
   "name": "python",
   "nbconvert_exporter": "python",
   "pygments_lexer": "ipython3",
   "version": "3.12.4"
  }
 },
 "nbformat": 4,
 "nbformat_minor": 5
}
